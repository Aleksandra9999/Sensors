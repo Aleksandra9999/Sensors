{
 "cells": [
  {
   "cell_type": "code",
   "execution_count": null,
   "metadata": {},
   "outputs": [],
   "source": [
    "import pandas as pd\n",
    "import numpy as np\n",
    "import matplotlib.pyplot as plt\n",
    "from mpl_toolkits.mplot3d import Axes3D\n",
    "\n",
    "data_coords = np.array(pd.read_csv('to_python.ply',sep=' ',header=10))[:,:3]\n",
    "\n",
    "def reduce2(point_cloud):\n",
    "    reduced_x = []\n",
    "    reduced_y = []\n",
    "    reduced_z = []\n",
    "    for i in range(len(point_cloud)):\n",
    "        if i%3==0:\n",
    "            reduced_x.append(point_cloud[i][0])\n",
    "            reduced_y.append(point_cloud[i][1])\n",
    "            reduced_z.append(point_cloud[i][2])\n",
    "    return reduced_x,reduced_y,reduced_z\n",
    "\n",
    "x_new,y_new,z_new = reduce2(data_coords)\n",
    "\n",
    "\n",
    "fig = plt.figure()\n",
    "ax = plt.axes(projection='3d')\n",
    "\n",
    "ax.scatter3D(x_new,y_new,z_new,c=z_new)\n",
    "ax.set_xlabel('X Label')\n",
    "ax.set_ylabel('Y Label')\n",
    "ax.set_zlabel('Z Label')\n",
    "plt.show()\n",
    "\n",
    "\n",
    "def find_center(x_points,y_points,z_points):\n",
    "\n",
    "    center_x = np.max(x_points)-np.min(x_points)/2\n",
    "    \n",
    "    for i in range(len(x_points)):\n",
    "        if x_points[i]==np.max(x_points):\n",
    "            x_max_ind = i\n",
    "        \n",
    "    center_z = z_points[x_max_ind]\n",
    "    center_y = np.max(y_points)-np.min(y_points)/2\n",
    "    \n",
    "    return center_x,center_y,center_z\n",
    "\n",
    "\n",
    "x,y,z = find_center(x_new,y_new,z_new)\n",
    "\n",
    "print('x coord of object center: ' + str(x))\n",
    "print('y coord of object center: ' + str(y))\n",
    "print('z coord of object center: ' + str(z))\n"
   ]
  }
 ],
 "metadata": {
  "kernelspec": {
   "display_name": "Python 3",
   "language": "python",
   "name": "python3"
  },
  "language_info": {
   "codemirror_mode": {
    "name": "ipython",
    "version": 3
   },
   "file_extension": ".py",
   "mimetype": "text/x-python",
   "name": "python",
   "nbconvert_exporter": "python",
   "pygments_lexer": "ipython3",
   "version": "3.7.3"
  }
 },
 "nbformat": 4,
 "nbformat_minor": 4
}
